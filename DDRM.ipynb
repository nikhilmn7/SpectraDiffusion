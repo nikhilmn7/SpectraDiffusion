{
 "cells": [
  {
   "cell_type": "code",
   "execution_count": 1,
   "metadata": {
    "colab": {
     "base_uri": "https://localhost:8080/"
    },
    "id": "_Qnn15saFI3p",
    "outputId": "708ba063-836e-4aa9-e5b0-0bc079c1ac63"
   },
   "outputs": [
    {
     "name": "stdout",
     "output_type": "stream",
     "text": [
      "Requirement already satisfied: timm in /home/nnara/anaconda3/lib/python3.11/site-packages (1.0.11)\n",
      "Requirement already satisfied: torch in /home/nnara/anaconda3/lib/python3.11/site-packages (from timm) (2.5.1)\n",
      "Requirement already satisfied: torchvision in /home/nnara/anaconda3/lib/python3.11/site-packages (from timm) (0.20.1)\n",
      "Requirement already satisfied: pyyaml in /home/nnara/anaconda3/lib/python3.11/site-packages (from timm) (6.0)\n",
      "Requirement already satisfied: huggingface_hub in /home/nnara/anaconda3/lib/python3.11/site-packages (from timm) (0.15.1)\n",
      "Requirement already satisfied: safetensors in /home/nnara/anaconda3/lib/python3.11/site-packages (from timm) (0.4.5)\n",
      "Requirement already satisfied: filelock in /home/nnara/anaconda3/lib/python3.11/site-packages (from huggingface_hub->timm) (3.9.0)\n",
      "Requirement already satisfied: fsspec in /home/nnara/anaconda3/lib/python3.11/site-packages (from huggingface_hub->timm) (2023.4.0)\n",
      "Requirement already satisfied: requests in /home/nnara/anaconda3/lib/python3.11/site-packages (from huggingface_hub->timm) (2.29.0)\n",
      "Requirement already satisfied: tqdm>=4.42.1 in /home/nnara/anaconda3/lib/python3.11/site-packages (from huggingface_hub->timm) (4.65.0)\n",
      "Requirement already satisfied: typing-extensions>=3.7.4.3 in /home/nnara/anaconda3/lib/python3.11/site-packages (from huggingface_hub->timm) (4.12.2)\n",
      "Requirement already satisfied: packaging>=20.9 in /home/nnara/anaconda3/lib/python3.11/site-packages (from huggingface_hub->timm) (23.0)\n",
      "Requirement already satisfied: networkx in /home/nnara/anaconda3/lib/python3.11/site-packages (from torch->timm) (2.8.4)\n",
      "Requirement already satisfied: jinja2 in /home/nnara/anaconda3/lib/python3.11/site-packages (from torch->timm) (3.1.2)\n",
      "Requirement already satisfied: nvidia-cuda-nvrtc-cu12==12.4.127 in /home/nnara/anaconda3/lib/python3.11/site-packages (from torch->timm) (12.4.127)\n",
      "Requirement already satisfied: nvidia-cuda-runtime-cu12==12.4.127 in /home/nnara/anaconda3/lib/python3.11/site-packages (from torch->timm) (12.4.127)\n",
      "Requirement already satisfied: nvidia-cuda-cupti-cu12==12.4.127 in /home/nnara/anaconda3/lib/python3.11/site-packages (from torch->timm) (12.4.127)\n",
      "Requirement already satisfied: nvidia-cudnn-cu12==9.1.0.70 in /home/nnara/anaconda3/lib/python3.11/site-packages (from torch->timm) (9.1.0.70)\n",
      "Requirement already satisfied: nvidia-cublas-cu12==12.4.5.8 in /home/nnara/anaconda3/lib/python3.11/site-packages (from torch->timm) (12.4.5.8)\n",
      "Requirement already satisfied: nvidia-cufft-cu12==11.2.1.3 in /home/nnara/anaconda3/lib/python3.11/site-packages (from torch->timm) (11.2.1.3)\n",
      "Requirement already satisfied: nvidia-curand-cu12==10.3.5.147 in /home/nnara/anaconda3/lib/python3.11/site-packages (from torch->timm) (10.3.5.147)\n",
      "Requirement already satisfied: nvidia-cusolver-cu12==11.6.1.9 in /home/nnara/anaconda3/lib/python3.11/site-packages (from torch->timm) (11.6.1.9)\n",
      "Requirement already satisfied: nvidia-cusparse-cu12==12.3.1.170 in /home/nnara/anaconda3/lib/python3.11/site-packages (from torch->timm) (12.3.1.170)\n",
      "Requirement already satisfied: nvidia-nccl-cu12==2.21.5 in /home/nnara/anaconda3/lib/python3.11/site-packages (from torch->timm) (2.21.5)\n",
      "Requirement already satisfied: nvidia-nvtx-cu12==12.4.127 in /home/nnara/anaconda3/lib/python3.11/site-packages (from torch->timm) (12.4.127)\n",
      "Requirement already satisfied: nvidia-nvjitlink-cu12==12.4.127 in /home/nnara/anaconda3/lib/python3.11/site-packages (from torch->timm) (12.4.127)\n",
      "Requirement already satisfied: triton==3.1.0 in /home/nnara/anaconda3/lib/python3.11/site-packages (from torch->timm) (3.1.0)\n",
      "Requirement already satisfied: sympy==1.13.1 in /home/nnara/anaconda3/lib/python3.11/site-packages (from torch->timm) (1.13.1)\n",
      "Requirement already satisfied: mpmath<1.4,>=1.1.0 in /home/nnara/anaconda3/lib/python3.11/site-packages (from sympy==1.13.1->torch->timm) (1.2.1)\n",
      "Requirement already satisfied: numpy in /home/nnara/anaconda3/lib/python3.11/site-packages (from torchvision->timm) (1.24.3)\n",
      "Requirement already satisfied: pillow!=8.3.*,>=5.3.0 in /home/nnara/anaconda3/lib/python3.11/site-packages (from torchvision->timm) (9.4.0)\n",
      "Requirement already satisfied: MarkupSafe>=2.0 in /home/nnara/anaconda3/lib/python3.11/site-packages (from jinja2->torch->timm) (2.1.1)\n",
      "Requirement already satisfied: charset-normalizer<4,>=2 in /home/nnara/anaconda3/lib/python3.11/site-packages (from requests->huggingface_hub->timm) (2.0.4)\n",
      "Requirement already satisfied: idna<4,>=2.5 in /home/nnara/anaconda3/lib/python3.11/site-packages (from requests->huggingface_hub->timm) (3.4)\n",
      "Requirement already satisfied: urllib3<1.27,>=1.21.1 in /home/nnara/anaconda3/lib/python3.11/site-packages (from requests->huggingface_hub->timm) (1.26.16)\n",
      "Requirement already satisfied: certifi>=2017.4.17 in /home/nnara/anaconda3/lib/python3.11/site-packages (from requests->huggingface_hub->timm) (2023.5.7)\n",
      "Requirement already satisfied: einops in /home/nnara/anaconda3/lib/python3.11/site-packages (0.8.0)\n"
     ]
    }
   ],
   "source": [
    "!pip install timm\n",
    "!pip install einops"
   ]
  },
  {
   "cell_type": "code",
   "execution_count": 2,
   "metadata": {
    "id": "BjkIWHOqrUhj"
   },
   "outputs": [],
   "source": [
    "import torch\n",
    "import torch.nn as nn\n",
    "import torch.nn.functional as F\n",
    "from einops import rearrange\n",
    "from typing import List\n",
    "import random\n",
    "import math\n",
    "from torchvision import datasets, transforms\n",
    "from torch.utils.data import Dataset, DataLoader\n",
    "from timm.utils import ModelEmaV3\n",
    "from tqdm import tqdm\n",
    "import matplotlib.pyplot as plt\n",
    "import torch.optim as optim\n",
    "import numpy as np\n",
    "\n",
    "#positional embeddings\n",
    "class SinusoidalEmbeddings(nn.Module):\n",
    "    def __init__(self, time_steps:int, embed_dim: int):\n",
    "        super().__init__()\n",
    "        position = torch.arange(time_steps).unsqueeze(1).float()\n",
    "        div = torch.exp(torch.arange(0, embed_dim, 2).float() * -(math.log(10000.0) / embed_dim))\n",
    "        embeddings = torch.zeros(time_steps, embed_dim, requires_grad=False)\n",
    "        embeddings[:, 0::2] = torch.sin(position * div)\n",
    "        embeddings[:, 1::2] = torch.cos(position * div)\n",
    "        self.embeddings = embeddings\n",
    "\n",
    "    def forward(self, x, t):\n",
    "        t = t.long().to(self.embeddings.device)\n",
    "        embeds = self.embeddings[t].to(x.device)\n",
    "        embeds = torch.reshape(embeds, (1,-1))\n",
    "        return embeds[:, :, None]"
   ]
  },
  {
   "cell_type": "code",
   "execution_count": 3,
   "metadata": {
    "id": "SwjI-SIl1rTm"
   },
   "outputs": [],
   "source": [
    "# Residual Blocks\n",
    "class ResBlock(nn.Module):\n",
    "    def __init__(self, C: int, num_groups: int, dropout_prob: float):\n",
    "        super().__init__()\n",
    "        self.relu = nn.ReLU(inplace=True)\n",
    "        self.gnorm1 = nn.GroupNorm(num_groups=num_groups, num_channels=C)\n",
    "        self.gnorm2 = nn.GroupNorm(num_groups=num_groups, num_channels=C)\n",
    "        self.conv1 = nn.Conv1d(C, C, kernel_size=3, padding=1)\n",
    "        self.conv2 = nn.Conv1d(C, C, kernel_size=3, padding=1)\n",
    "        self.dropout = nn.Dropout(p=dropout_prob, inplace=True)\n",
    "\n",
    "    def forward(self, x, embeddings):\n",
    "        x = x + embeddings[:, :x.shape[1], :]\n",
    "        r = self.conv1(self.relu(self.gnorm1(x)))\n",
    "        r = self.dropout(r)\n",
    "        r = self.conv2(self.relu(self.gnorm2(r)))\n",
    "        return r + x"
   ]
  },
  {
   "cell_type": "code",
   "execution_count": 4,
   "metadata": {
    "id": "UNWBl_G8HsCa"
   },
   "outputs": [],
   "source": [
    "class Attention(nn.Module):\n",
    "    def __init__(self, C: int, num_heads:int , dropout_prob: float):\n",
    "        super().__init__()\n",
    "        self.proj1 = nn.Linear(C, C*3)\n",
    "        self.proj2 = nn.Linear(C, C)\n",
    "        self.num_heads = num_heads\n",
    "        self.dropout_prob = dropout_prob\n",
    "\n",
    "    def forward(self, x):\n",
    "        length = x.shape[2]\n",
    "        x = rearrange(x, 'b c l -> b l c')\n",
    "        x = self.proj1(x)\n",
    "        x = rearrange(x, 'b l (C H K) -> K b H l C', K=3, H=self.num_heads)\n",
    "        q,k,v = x[0], x[1], x[2]\n",
    "        x = F.scaled_dot_product_attention(q,k,v, is_causal=False, dropout_p=self.dropout_prob)\n",
    "        x = rearrange(x, 'b H l C -> b l (C H)')\n",
    "        x = self.proj2(x)\n",
    "        return rearrange(x, 'b l C -> b C l')"
   ]
  },
  {
   "cell_type": "code",
   "execution_count": 5,
   "metadata": {
    "id": "teuX7ZcYIgn9"
   },
   "outputs": [],
   "source": [
    "class UnetLayer(nn.Module):\n",
    "    def __init__(self,\n",
    "            upscale: bool,\n",
    "            attention: bool,\n",
    "            last_layer: bool,\n",
    "            num_groups: int,\n",
    "            dropout_prob: float,\n",
    "            num_heads: int,\n",
    "            C: int):\n",
    "        super().__init__()\n",
    "        self.ResBlock1 = ResBlock(C=C, num_groups=num_groups, dropout_prob=dropout_prob)\n",
    "        self.ResBlock2 = ResBlock(C=C, num_groups=num_groups, dropout_prob=dropout_prob)\n",
    "        if upscale and not last_layer:\n",
    "            self.conv = nn.ConvTranspose1d(C, C//2, kernel_size=3, stride=2, padding=1, output_padding=1)\n",
    "        elif last_layer:\n",
    "            self.conv = nn.ConvTranspose1d(C, C//2, kernel_size=3, stride=2, padding=1)\n",
    "        else:\n",
    "            self.conv = nn.Conv1d(C, C*2, kernel_size=3, stride=2, padding=1)\n",
    "        if attention:\n",
    "            self.attention_layer = Attention(C, num_heads=num_heads, dropout_prob=dropout_prob)\n",
    "\n",
    "    def forward(self, x, embeddings):\n",
    "        x = self.ResBlock1(x, embeddings)\n",
    "        if hasattr(self, 'attention_layer'):\n",
    "            x = self.attention_layer(x)\n",
    "        x = self.ResBlock2(x, embeddings)\n",
    "        #print(x.shape, self.conv(x).shape)\n",
    "        return self.conv(x), x"
   ]
  },
  {
   "cell_type": "code",
   "execution_count": 6,
   "metadata": {
    "id": "PmM1mkiVPB43"
   },
   "outputs": [],
   "source": [
    "class UNET(nn.Module):\n",
    "    def __init__(self,\n",
    "            Channels: List = [64, 128, 256, 512, 512, 384],\n",
    "            Attentions: List = [False, True, False, False, False, True],\n",
    "            Upscales: List = [False, False, False, True, True, True],\n",
    "            last_layers: List = [False, False, False, False, False, True],\n",
    "            num_groups: int = 32,\n",
    "            dropout_prob: float = 0.1,\n",
    "            num_heads: int = 8,\n",
    "            input_channels: int = 1,\n",
    "            output_channels: int = 1,\n",
    "            time_steps: int = 1000):\n",
    "        super().__init__()\n",
    "        self.num_layers = len(Channels)\n",
    "        self.shallow_conv = nn.Conv1d(input_channels, Channels[0], kernel_size=3, padding=1)\n",
    "        out_channels = (Channels[-1]//2)+Channels[0]\n",
    "        self.late_conv = nn.Conv1d(out_channels, out_channels//2, kernel_size=3, padding=1)\n",
    "        self.output_conv = nn.Conv1d(out_channels//2, output_channels, kernel_size=1)\n",
    "        self.relu = nn.ReLU(inplace=True)\n",
    "        self.embeddings = SinusoidalEmbeddings(time_steps=time_steps, embed_dim=max(Channels))\n",
    "        for i in range(self.num_layers):\n",
    "            layer = UnetLayer(\n",
    "                upscale=Upscales[i],\n",
    "                attention=Attentions[i],\n",
    "                last_layer=last_layers[i],\n",
    "                num_groups=num_groups,\n",
    "                dropout_prob=dropout_prob,\n",
    "                C=Channels[i],\n",
    "                num_heads=num_heads\n",
    "            )\n",
    "            setattr(self, f'Layer{i+1}', layer)\n",
    "\n",
    "    def forward(self, x, t):\n",
    "        x = self.shallow_conv(x)\n",
    "        residuals = []\n",
    "        for i in range(self.num_layers//2):\n",
    "            layer = getattr(self, f'Layer{i+1}')\n",
    "            embeddings = self.embeddings(x, t)\n",
    "            x, r = layer(x, embeddings)\n",
    "            residuals.append(r)\n",
    "        for i in range(self.num_layers//2, self.num_layers):\n",
    "            layer = getattr(self, f'Layer{i+1}')\n",
    "            residual = residuals[self.num_layers - i - 1]\n",
    "            x = torch.concat((layer(x, embeddings)[0], residual), dim=1)\n",
    "        return self.output_conv(self.relu(self.late_conv(x)))"
   ]
  },
  {
   "cell_type": "code",
   "execution_count": 7,
   "metadata": {
    "colab": {
     "base_uri": "https://localhost:8080/"
    },
    "id": "FKBViUohQm4g",
    "outputId": "010dfcd7-9501-4d43-b8c6-56f459455e85"
   },
   "outputs": [
    {
     "name": "stdout",
     "output_type": "stream",
     "text": [
      "Output shape: torch.Size([1, 1, 31])\n"
     ]
    }
   ],
   "source": [
    "model = UNET()\n",
    "\n",
    "# Generate a random 1D input tensor of shape (batch_size, input_channels, length)\n",
    "batch_size = 1  # You can change this to whatever batch size you need\n",
    "input_length = 31  # As specified\n",
    "input_tensor = torch.randn(batch_size, 1, input_length)  # Shape: (1, 1, 31)\n",
    "\n",
    "# Generate a random time step tensor\n",
    "time_steps = torch.randint(0, 1000, (batch_size,))  # Randomly generating time steps\n",
    "\n",
    "# Pass the input tensor through the model\n",
    "output = model(input_tensor, time_steps)\n",
    "\n",
    "# Print the output shape\n",
    "print(\"Output shape:\", output.shape)"
   ]
  },
  {
   "cell_type": "code",
   "execution_count": 8,
   "metadata": {
    "id": "WuFPdZnSPnyG"
   },
   "outputs": [],
   "source": [
    "class DDPM_Scheduler(nn.Module):\n",
    "    def __init__(self, num_time_steps: int=1000):\n",
    "        super().__init__()\n",
    "        self.beta = torch.linspace(1e-4, 0.02, num_time_steps, requires_grad=False).cuda()\n",
    "        alpha = 1 - self.beta\n",
    "        self.alpha = torch.cumprod(alpha, dim=0).requires_grad_(False).cuda()\n",
    "\n",
    "    def forward(self, t):\n",
    "        return self.beta[t], self.alpha[t]"
   ]
  },
  {
   "cell_type": "code",
   "execution_count": 9,
   "metadata": {
    "id": "uhuSO8oDcTrp"
   },
   "outputs": [],
   "source": [
    "data = np.load('/home/nnara/notebooks/1mil_pixel_data.npy')\n",
    "#data = np.load('/content/1mil_pixel_data.npy')\n",
    "#reshape it to (size, channels, length)\n",
    "data = data.reshape((-1, 1, 31))"
   ]
  },
  {
   "cell_type": "code",
   "execution_count": 10,
   "metadata": {
    "id": "9GRDeydzlPZq"
   },
   "outputs": [],
   "source": [
    "class SpectralDataset(Dataset):\n",
    "  def __init__(self, data):\n",
    "    self.data = torch.from_numpy(data)\n",
    "\n",
    "  def __len__(self):\n",
    "    return len(self.data)\n",
    "\n",
    "  def __getitem__(self, idx):\n",
    "    return self.data[idx]"
   ]
  },
  {
   "cell_type": "code",
   "execution_count": 11,
   "metadata": {
    "id": "wJngCvu2aSkK"
   },
   "outputs": [],
   "source": [
    "import os\n",
    "#batch size must be compatible with number of data points (999,990)\n",
    "def train(batch_size: int=246,\n",
    "          num_time_steps: int=1000,\n",
    "          num_epochs: int=1,\n",
    "          seed: int=-1,\n",
    "          ema_decay: float=0.9999,\n",
    "          lr=2e-5,\n",
    "          checkpoint_path: str=None):\n",
    "    #set_seed(random.randint(0, 2**32-1)) if seed == -1 else set_seed(seed)\n",
    "\n",
    "    train_dataset = SpectralDataset(data)\n",
    "    train_dataloader = DataLoader(train_dataset, batch_size=batch_size, shuffle=True)\n",
    "\n",
    "    scheduler = DDPM_Scheduler(num_time_steps=num_time_steps)\n",
    "    model = UNET().cuda()\n",
    "    optimizer = optim.Adam(model.parameters(), lr=lr)\n",
    "    ema = ModelEmaV3(model, decay=ema_decay)\n",
    "    if checkpoint_path is not None and os.path.exists(checkpoint_path):\n",
    "        checkpoint = torch.load(checkpoint_path)\n",
    "        model.load_state_dict(checkpoint['weights'])\n",
    "        ema.load_state_dict(checkpoint['ema'])\n",
    "        optimizer.load_state_dict(checkpoint['optimizer'])\n",
    "    criterion = nn.MSELoss(reduction='mean')\n",
    "\n",
    "    for i in range(num_epochs):\n",
    "        total_loss = 0\n",
    "        for bidx, x in enumerate(tqdm(train_dataloader, desc=f\"Epoch {i+1}/{num_epochs}\")):\n",
    "            x = x.cuda()\n",
    "            t = torch.randint(0,num_time_steps,(batch_size,))\n",
    "            e = torch.randn_like(x, requires_grad=False)\n",
    "            a = scheduler.alpha[t].view(batch_size,1,1).cuda()\n",
    "            x = (torch.sqrt(a)*x) + (torch.sqrt(1-a)*e)\n",
    "            output = model(x, t)\n",
    "            optimizer.zero_grad()\n",
    "            loss = criterion(output, e)\n",
    "            total_loss += loss.item()\n",
    "            loss.backward()\n",
    "            optimizer.step()\n",
    "            ema.update(model)\n",
    "        print(f'Epoch {i+1} | Loss {total_loss / (999990/batch_size):.5f}')\n",
    "\n",
    "    checkpoint = {\n",
    "        'weights': model.state_dict(),\n",
    "        'optimizer': optimizer.state_dict(),\n",
    "        'ema': ema.state_dict()\n",
    "    }\n",
    "    torch.save(checkpoint, '/home/nnara/notebooks/ddpm_checkpoint.pth')\n",
    "    #torch.save(checkpoint, '/content/ddpm_checkpoint.pth')"
   ]
  },
  {
   "cell_type": "code",
   "execution_count": 17,
   "metadata": {
    "colab": {
     "base_uri": "https://localhost:8080/"
    },
    "id": "PspsPezHgLzy",
    "outputId": "e83c314e-5722-4f5f-9be2-a7f2f87a0524"
   },
   "outputs": [
    {
     "name": "stderr",
     "output_type": "stream",
     "text": [
      "/tmp/ipykernel_1022602/630407638.py:20: FutureWarning: You are using `torch.load` with `weights_only=False` (the current default value), which uses the default pickle module implicitly. It is possible to construct malicious pickle data which will execute arbitrary code during unpickling (See https://github.com/pytorch/pytorch/blob/main/SECURITY.md#untrusted-models for more details). In a future release, the default value for `weights_only` will be flipped to `True`. This limits the functions that could be executed during unpickling. Arbitrary objects will no longer be allowed to be loaded via this mode unless they are explicitly allowlisted by the user via `torch.serialization.add_safe_globals`. We recommend you start setting `weights_only=True` for any use case where you don't have full control of the loaded file. Please open an issue on GitHub for any issues related to this experimental feature.\n",
      "  checkpoint = torch.load(checkpoint_path)\n",
      "Epoch 1/50: 100%|███████████████████████████| 4065/4065 [01:55<00:00, 35.31it/s]\n"
     ]
    },
    {
     "name": "stdout",
     "output_type": "stream",
     "text": [
      "Epoch 1 | Loss 0.06180\n"
     ]
    },
    {
     "name": "stderr",
     "output_type": "stream",
     "text": [
      "Epoch 2/50: 100%|███████████████████████████| 4065/4065 [01:54<00:00, 35.51it/s]\n"
     ]
    },
    {
     "name": "stdout",
     "output_type": "stream",
     "text": [
      "Epoch 2 | Loss 0.04875\n"
     ]
    },
    {
     "name": "stderr",
     "output_type": "stream",
     "text": [
      "Epoch 3/50: 100%|███████████████████████████| 4065/4065 [01:34<00:00, 43.09it/s]\n"
     ]
    },
    {
     "name": "stdout",
     "output_type": "stream",
     "text": [
      "Epoch 3 | Loss 0.04202\n"
     ]
    },
    {
     "name": "stderr",
     "output_type": "stream",
     "text": [
      "Epoch 4/50: 100%|███████████████████████████| 4065/4065 [01:26<00:00, 47.16it/s]\n"
     ]
    },
    {
     "name": "stdout",
     "output_type": "stream",
     "text": [
      "Epoch 4 | Loss 0.03885\n"
     ]
    },
    {
     "name": "stderr",
     "output_type": "stream",
     "text": [
      "Epoch 5/50: 100%|███████████████████████████| 4065/4065 [01:54<00:00, 35.48it/s]\n"
     ]
    },
    {
     "name": "stdout",
     "output_type": "stream",
     "text": [
      "Epoch 5 | Loss 0.03733\n"
     ]
    },
    {
     "name": "stderr",
     "output_type": "stream",
     "text": [
      "Epoch 6/50: 100%|███████████████████████████| 4065/4065 [01:54<00:00, 35.35it/s]\n"
     ]
    },
    {
     "name": "stdout",
     "output_type": "stream",
     "text": [
      "Epoch 6 | Loss 0.03610\n"
     ]
    },
    {
     "name": "stderr",
     "output_type": "stream",
     "text": [
      "Epoch 7/50: 100%|███████████████████████████| 4065/4065 [01:55<00:00, 35.29it/s]\n"
     ]
    },
    {
     "name": "stdout",
     "output_type": "stream",
     "text": [
      "Epoch 7 | Loss 0.03530\n"
     ]
    },
    {
     "name": "stderr",
     "output_type": "stream",
     "text": [
      "Epoch 8/50: 100%|███████████████████████████| 4065/4065 [01:55<00:00, 35.23it/s]\n"
     ]
    },
    {
     "name": "stdout",
     "output_type": "stream",
     "text": [
      "Epoch 8 | Loss 0.03462\n"
     ]
    },
    {
     "name": "stderr",
     "output_type": "stream",
     "text": [
      "Epoch 9/50: 100%|███████████████████████████| 4065/4065 [01:55<00:00, 35.24it/s]\n"
     ]
    },
    {
     "name": "stdout",
     "output_type": "stream",
     "text": [
      "Epoch 9 | Loss 0.03424\n"
     ]
    },
    {
     "name": "stderr",
     "output_type": "stream",
     "text": [
      "Epoch 10/50: 100%|██████████████████████████| 4065/4065 [01:54<00:00, 35.39it/s]\n"
     ]
    },
    {
     "name": "stdout",
     "output_type": "stream",
     "text": [
      "Epoch 10 | Loss 0.03375\n"
     ]
    },
    {
     "name": "stderr",
     "output_type": "stream",
     "text": [
      "Epoch 11/50: 100%|██████████████████████████| 4065/4065 [01:53<00:00, 35.68it/s]\n"
     ]
    },
    {
     "name": "stdout",
     "output_type": "stream",
     "text": [
      "Epoch 11 | Loss 0.03343\n"
     ]
    },
    {
     "name": "stderr",
     "output_type": "stream",
     "text": [
      "Epoch 12/50: 100%|██████████████████████████| 4065/4065 [01:55<00:00, 35.27it/s]\n"
     ]
    },
    {
     "name": "stdout",
     "output_type": "stream",
     "text": [
      "Epoch 12 | Loss 0.03308\n"
     ]
    },
    {
     "name": "stderr",
     "output_type": "stream",
     "text": [
      "Epoch 13/50: 100%|██████████████████████████| 4065/4065 [01:55<00:00, 35.20it/s]\n"
     ]
    },
    {
     "name": "stdout",
     "output_type": "stream",
     "text": [
      "Epoch 13 | Loss 0.03299\n"
     ]
    },
    {
     "name": "stderr",
     "output_type": "stream",
     "text": [
      "Epoch 14/50: 100%|██████████████████████████| 4065/4065 [01:55<00:00, 35.15it/s]\n"
     ]
    },
    {
     "name": "stdout",
     "output_type": "stream",
     "text": [
      "Epoch 14 | Loss 0.03281\n"
     ]
    },
    {
     "name": "stderr",
     "output_type": "stream",
     "text": [
      "Epoch 15/50: 100%|██████████████████████████| 4065/4065 [01:55<00:00, 35.30it/s]\n"
     ]
    },
    {
     "name": "stdout",
     "output_type": "stream",
     "text": [
      "Epoch 15 | Loss 0.03241\n"
     ]
    },
    {
     "name": "stderr",
     "output_type": "stream",
     "text": [
      "Epoch 16/50: 100%|██████████████████████████| 4065/4065 [01:55<00:00, 35.35it/s]\n"
     ]
    },
    {
     "name": "stdout",
     "output_type": "stream",
     "text": [
      "Epoch 16 | Loss 0.03227\n"
     ]
    },
    {
     "name": "stderr",
     "output_type": "stream",
     "text": [
      "Epoch 17/50: 100%|██████████████████████████| 4065/4065 [01:54<00:00, 35.64it/s]\n"
     ]
    },
    {
     "name": "stdout",
     "output_type": "stream",
     "text": [
      "Epoch 17 | Loss 0.03212\n"
     ]
    },
    {
     "name": "stderr",
     "output_type": "stream",
     "text": [
      "Epoch 18/50: 100%|██████████████████████████| 4065/4065 [01:54<00:00, 35.52it/s]\n"
     ]
    },
    {
     "name": "stdout",
     "output_type": "stream",
     "text": [
      "Epoch 18 | Loss 0.03209\n"
     ]
    },
    {
     "name": "stderr",
     "output_type": "stream",
     "text": [
      "Epoch 19/50: 100%|██████████████████████████| 4065/4065 [01:54<00:00, 35.37it/s]\n"
     ]
    },
    {
     "name": "stdout",
     "output_type": "stream",
     "text": [
      "Epoch 19 | Loss 0.03187\n"
     ]
    },
    {
     "name": "stderr",
     "output_type": "stream",
     "text": [
      "Epoch 20/50: 100%|██████████████████████████| 4065/4065 [01:54<00:00, 35.43it/s]\n"
     ]
    },
    {
     "name": "stdout",
     "output_type": "stream",
     "text": [
      "Epoch 20 | Loss 0.03174\n"
     ]
    },
    {
     "name": "stderr",
     "output_type": "stream",
     "text": [
      "Epoch 21/50: 100%|██████████████████████████| 4065/4065 [01:55<00:00, 35.16it/s]\n"
     ]
    },
    {
     "name": "stdout",
     "output_type": "stream",
     "text": [
      "Epoch 21 | Loss 0.03179\n"
     ]
    },
    {
     "name": "stderr",
     "output_type": "stream",
     "text": [
      "Epoch 22/50: 100%|██████████████████████████| 4065/4065 [01:55<00:00, 35.23it/s]\n"
     ]
    },
    {
     "name": "stdout",
     "output_type": "stream",
     "text": [
      "Epoch 22 | Loss 0.03161\n"
     ]
    },
    {
     "name": "stderr",
     "output_type": "stream",
     "text": [
      "Epoch 23/50: 100%|██████████████████████████| 4065/4065 [01:55<00:00, 35.24it/s]\n"
     ]
    },
    {
     "name": "stdout",
     "output_type": "stream",
     "text": [
      "Epoch 23 | Loss 0.03150\n"
     ]
    },
    {
     "name": "stderr",
     "output_type": "stream",
     "text": [
      "Epoch 24/50: 100%|██████████████████████████| 4065/4065 [01:54<00:00, 35.61it/s]\n"
     ]
    },
    {
     "name": "stdout",
     "output_type": "stream",
     "text": [
      "Epoch 24 | Loss 0.03161\n"
     ]
    },
    {
     "name": "stderr",
     "output_type": "stream",
     "text": [
      "Epoch 25/50: 100%|██████████████████████████| 4065/4065 [01:54<00:00, 35.46it/s]\n"
     ]
    },
    {
     "name": "stdout",
     "output_type": "stream",
     "text": [
      "Epoch 25 | Loss 0.03127\n"
     ]
    },
    {
     "name": "stderr",
     "output_type": "stream",
     "text": [
      "Epoch 26/50: 100%|██████████████████████████| 4065/4065 [01:55<00:00, 35.32it/s]\n"
     ]
    },
    {
     "name": "stdout",
     "output_type": "stream",
     "text": [
      "Epoch 26 | Loss 0.03132\n"
     ]
    },
    {
     "name": "stderr",
     "output_type": "stream",
     "text": [
      "Epoch 27/50: 100%|██████████████████████████| 4065/4065 [01:55<00:00, 35.20it/s]\n"
     ]
    },
    {
     "name": "stdout",
     "output_type": "stream",
     "text": [
      "Epoch 27 | Loss 0.03113\n"
     ]
    },
    {
     "name": "stderr",
     "output_type": "stream",
     "text": [
      "Epoch 28/50: 100%|██████████████████████████| 4065/4065 [01:55<00:00, 35.27it/s]\n"
     ]
    },
    {
     "name": "stdout",
     "output_type": "stream",
     "text": [
      "Epoch 28 | Loss 0.03117\n"
     ]
    },
    {
     "name": "stderr",
     "output_type": "stream",
     "text": [
      "Epoch 29/50: 100%|██████████████████████████| 4065/4065 [01:55<00:00, 35.30it/s]\n"
     ]
    },
    {
     "name": "stdout",
     "output_type": "stream",
     "text": [
      "Epoch 29 | Loss 0.03110\n"
     ]
    },
    {
     "name": "stderr",
     "output_type": "stream",
     "text": [
      "Epoch 30/50: 100%|██████████████████████████| 4065/4065 [01:55<00:00, 35.17it/s]\n"
     ]
    },
    {
     "name": "stdout",
     "output_type": "stream",
     "text": [
      "Epoch 30 | Loss 0.03107\n"
     ]
    },
    {
     "name": "stderr",
     "output_type": "stream",
     "text": [
      "Epoch 31/50: 100%|██████████████████████████| 4065/4065 [01:53<00:00, 35.75it/s]\n"
     ]
    },
    {
     "name": "stdout",
     "output_type": "stream",
     "text": [
      "Epoch 31 | Loss 0.03089\n"
     ]
    },
    {
     "name": "stderr",
     "output_type": "stream",
     "text": [
      "Epoch 32/50: 100%|██████████████████████████| 4065/4065 [01:55<00:00, 35.33it/s]\n"
     ]
    },
    {
     "name": "stdout",
     "output_type": "stream",
     "text": [
      "Epoch 32 | Loss 0.03084\n"
     ]
    },
    {
     "name": "stderr",
     "output_type": "stream",
     "text": [
      "Epoch 33/50: 100%|██████████████████████████| 4065/4065 [01:55<00:00, 35.19it/s]\n"
     ]
    },
    {
     "name": "stdout",
     "output_type": "stream",
     "text": [
      "Epoch 33 | Loss 0.03086\n"
     ]
    },
    {
     "name": "stderr",
     "output_type": "stream",
     "text": [
      "Epoch 34/50: 100%|██████████████████████████| 4065/4065 [01:55<00:00, 35.28it/s]\n"
     ]
    },
    {
     "name": "stdout",
     "output_type": "stream",
     "text": [
      "Epoch 34 | Loss 0.03080\n"
     ]
    },
    {
     "name": "stderr",
     "output_type": "stream",
     "text": [
      "Epoch 35/50: 100%|██████████████████████████| 4065/4065 [01:54<00:00, 35.40it/s]\n"
     ]
    },
    {
     "name": "stdout",
     "output_type": "stream",
     "text": [
      "Epoch 35 | Loss 0.03080\n"
     ]
    },
    {
     "name": "stderr",
     "output_type": "stream",
     "text": [
      "Epoch 36/50: 100%|██████████████████████████| 4065/4065 [01:55<00:00, 35.31it/s]\n"
     ]
    },
    {
     "name": "stdout",
     "output_type": "stream",
     "text": [
      "Epoch 36 | Loss 0.03079\n"
     ]
    },
    {
     "name": "stderr",
     "output_type": "stream",
     "text": [
      "Epoch 37/50: 100%|██████████████████████████| 4065/4065 [01:54<00:00, 35.42it/s]\n"
     ]
    },
    {
     "name": "stdout",
     "output_type": "stream",
     "text": [
      "Epoch 37 | Loss 0.03073\n"
     ]
    },
    {
     "name": "stderr",
     "output_type": "stream",
     "text": [
      "Epoch 38/50: 100%|██████████████████████████| 4065/4065 [01:53<00:00, 35.70it/s]\n"
     ]
    },
    {
     "name": "stdout",
     "output_type": "stream",
     "text": [
      "Epoch 38 | Loss 0.03060\n"
     ]
    },
    {
     "name": "stderr",
     "output_type": "stream",
     "text": [
      "Epoch 39/50: 100%|██████████████████████████| 4065/4065 [01:55<00:00, 35.26it/s]\n"
     ]
    },
    {
     "name": "stdout",
     "output_type": "stream",
     "text": [
      "Epoch 39 | Loss 0.03069\n"
     ]
    },
    {
     "name": "stderr",
     "output_type": "stream",
     "text": [
      "Epoch 40/50: 100%|██████████████████████████| 4065/4065 [01:55<00:00, 35.19it/s]\n"
     ]
    },
    {
     "name": "stdout",
     "output_type": "stream",
     "text": [
      "Epoch 40 | Loss 0.03052\n"
     ]
    },
    {
     "name": "stderr",
     "output_type": "stream",
     "text": [
      "Epoch 41/50: 100%|██████████████████████████| 4065/4065 [01:55<00:00, 35.27it/s]\n"
     ]
    },
    {
     "name": "stdout",
     "output_type": "stream",
     "text": [
      "Epoch 41 | Loss 0.03047\n"
     ]
    },
    {
     "name": "stderr",
     "output_type": "stream",
     "text": [
      "Epoch 42/50: 100%|██████████████████████████| 4065/4065 [01:55<00:00, 35.19it/s]\n"
     ]
    },
    {
     "name": "stdout",
     "output_type": "stream",
     "text": [
      "Epoch 42 | Loss 0.03061\n"
     ]
    },
    {
     "name": "stderr",
     "output_type": "stream",
     "text": [
      "Epoch 43/50: 100%|██████████████████████████| 4065/4065 [01:55<00:00, 35.24it/s]\n"
     ]
    },
    {
     "name": "stdout",
     "output_type": "stream",
     "text": [
      "Epoch 43 | Loss 0.03035\n"
     ]
    },
    {
     "name": "stderr",
     "output_type": "stream",
     "text": [
      "Epoch 44/50: 100%|██████████████████████████| 4065/4065 [01:54<00:00, 35.52it/s]\n"
     ]
    },
    {
     "name": "stdout",
     "output_type": "stream",
     "text": [
      "Epoch 44 | Loss 0.03043\n"
     ]
    },
    {
     "name": "stderr",
     "output_type": "stream",
     "text": [
      "Epoch 45/50: 100%|██████████████████████████| 4065/4065 [01:54<00:00, 35.57it/s]\n"
     ]
    },
    {
     "name": "stdout",
     "output_type": "stream",
     "text": [
      "Epoch 45 | Loss 0.03037\n"
     ]
    },
    {
     "name": "stderr",
     "output_type": "stream",
     "text": [
      "Epoch 46/50: 100%|██████████████████████████| 4065/4065 [01:55<00:00, 35.22it/s]\n"
     ]
    },
    {
     "name": "stdout",
     "output_type": "stream",
     "text": [
      "Epoch 46 | Loss 0.03038\n"
     ]
    },
    {
     "name": "stderr",
     "output_type": "stream",
     "text": [
      "Epoch 47/50: 100%|██████████████████████████| 4065/4065 [01:55<00:00, 35.29it/s]\n"
     ]
    },
    {
     "name": "stdout",
     "output_type": "stream",
     "text": [
      "Epoch 47 | Loss 0.03039\n"
     ]
    },
    {
     "name": "stderr",
     "output_type": "stream",
     "text": [
      "Epoch 48/50: 100%|██████████████████████████| 4065/4065 [01:55<00:00, 35.28it/s]\n"
     ]
    },
    {
     "name": "stdout",
     "output_type": "stream",
     "text": [
      "Epoch 48 | Loss 0.03044\n"
     ]
    },
    {
     "name": "stderr",
     "output_type": "stream",
     "text": [
      "Epoch 49/50: 100%|██████████████████████████| 4065/4065 [01:55<00:00, 35.35it/s]\n"
     ]
    },
    {
     "name": "stdout",
     "output_type": "stream",
     "text": [
      "Epoch 49 | Loss 0.03033\n"
     ]
    },
    {
     "name": "stderr",
     "output_type": "stream",
     "text": [
      "Epoch 50/50: 100%|██████████████████████████| 4065/4065 [01:55<00:00, 35.28it/s]\n"
     ]
    },
    {
     "name": "stdout",
     "output_type": "stream",
     "text": [
      "Epoch 50 | Loss 0.03020\n"
     ]
    }
   ],
   "source": [
    "train(checkpoint_path='/home/nnara/notebooks/ddpm_checkpoint.pth', lr=2e-5, num_epochs=50)\n",
    "#train(checkpoint_path='/content/ddpm_checkpoint.pth', lr=2e-5, num_epochs=1)"
   ]
  },
  {
   "cell_type": "code",
   "execution_count": 12,
   "metadata": {
    "id": "35DE2GEo6YFh"
   },
   "outputs": [],
   "source": [
    "#base class for different tasks like super resolution, denoising, inpainting, etc.\n",
    "class H_functions:\n",
    "    \"\"\"\n",
    "    A class replacing the SVD of a matrix H, perhaps efficiently.\n",
    "    All input vectors are of shape (Batch, ...).\n",
    "    All output vectors are of shape (Batch, DataDimension).\n",
    "    \"\"\"\n",
    "\n",
    "    def V(self, vec):\n",
    "        \"\"\"\n",
    "        Multiplies the input vector by V\n",
    "        \"\"\"\n",
    "        raise NotImplementedError()\n",
    "\n",
    "    def Vt(self, vec):\n",
    "        \"\"\"\n",
    "        Multiplies the input vector by V transposed\n",
    "        \"\"\"\n",
    "        raise NotImplementedError()\n",
    "\n",
    "    def U(self, vec):\n",
    "        \"\"\"\n",
    "        Multiplies the input vector by U\n",
    "        \"\"\"\n",
    "        raise NotImplementedError()\n",
    "\n",
    "    def Ut(self, vec):\n",
    "        \"\"\"\n",
    "        Multiplies the input vector by U transposed\n",
    "        \"\"\"\n",
    "        raise NotImplementedError()\n",
    "\n",
    "    def singulars(self):\n",
    "        \"\"\"\n",
    "        Returns a vector containing the singular values. The shape of the vector should be the same as the smaller dimension (like U)\n",
    "        \"\"\"\n",
    "        raise NotImplementedError()\n",
    "\n",
    "    def add_zeros(self, vec):\n",
    "        \"\"\"\n",
    "        Adds trailing zeros to turn a vector from the small dimension (U) to the big dimension (V)\n",
    "        \"\"\"\n",
    "        raise NotImplementedError()\n",
    "\n",
    "    def H(self, vec):\n",
    "        \"\"\"\n",
    "        Multiplies the input vector by H\n",
    "        \"\"\"\n",
    "        temp = self.Vt(vec)\n",
    "        singulars = self.singulars()\n",
    "        return self.U(singulars * temp[:, :singulars.shape[0]])\n",
    "\n",
    "    def Ht(self, vec):\n",
    "        \"\"\"\n",
    "        Multiplies the input vector by H transposed\n",
    "        \"\"\"\n",
    "        temp = self.Ut(vec)\n",
    "        singulars = self.singulars()\n",
    "        return self.V(self.add_zeros(singulars * temp[:, :, :singulars.shape[0]]))\n",
    "\n",
    "    def H_pinv(self, vec):\n",
    "        \"\"\"\n",
    "        Multiplies the input vector by the pseudo inverse of H\n",
    "        \"\"\"\n",
    "        temp = self.Ut(vec)\n",
    "        singulars = self.singulars()\n",
    "        temp[:, :, :singulars.shape[0]] = temp[:, :, :singulars.shape[0]] / singulars\n",
    "        return self.V(self.add_zeros(temp))"
   ]
  },
  {
   "cell_type": "code",
   "execution_count": 13,
   "metadata": {
    "id": "dzN4r8cis1qm"
   },
   "outputs": [],
   "source": [
    "class Denoising(H_functions):\n",
    "    def __init__(self, indices_to_noise, num_wavelengths=31):\n",
    "        \"\"\"\n",
    "        Initialize the HFunctions class.\n",
    "\n",
    "        Args:\n",
    "            indices_to_noise (list): Indices of the 5 wavelengths to be noised (e.g., [2, 5, 10, 15, 30]).\n",
    "            num_wavelengths (int): Total number of wavelengths (default: 31).\n",
    "        \"\"\"\n",
    "        self.indices_to_noise = indices_to_noise\n",
    "        self.num_wavelengths = num_wavelengths\n",
    "        self.mask = self._create_mask().cuda()\n",
    "        #singulars are not used here, so they are initialized to ones\n",
    "        self._singulars = torch.ones(31).cuda()\n",
    "\n",
    "    def _create_mask(self):\n",
    "        \"\"\"\n",
    "        Create a mask that selects only the indices to noise.\n",
    "        \"\"\"\n",
    "        mask = torch.zeros(self.num_wavelengths, dtype=torch.bool)\n",
    "        mask[self.indices_to_noise] = True\n",
    "        return mask\n",
    "\n",
    "    def H(self, x):\n",
    "        noise = torch.randn_like(x) * 0.3 #Scale noise to have range between -0.3 and 0.3\n",
    "        noise = noise * self.mask.view(1, 1, -1).float()\n",
    "        return x + noise\n",
    "\n",
    "    def Ht(self, y): #just returns the noised input since no transformation is needed since we aren't using SVD\n",
    "        return y\n",
    "\n",
    "    def H_pinv(self, y): #same as above\n",
    "        return y\n",
    "\n",
    "    def V(self, vec):\n",
    "        return vec\n",
    "\n",
    "    def Vt(self, vec):\n",
    "        return vec\n",
    "\n",
    "    def U(self, vec):\n",
    "        return vec\n",
    "\n",
    "    def Ut(self, vec):\n",
    "        return vec\n",
    "\n",
    "    def singulars(self):\n",
    "        return self._singulars\n",
    "\n",
    "    def add_zeros(self, vec):\n",
    "        return vec"
   ]
  },
  {
   "cell_type": "code",
   "execution_count": 14,
   "metadata": {
    "id": "0Q-97MPe5eey"
   },
   "outputs": [],
   "source": [
    "def compute_alpha(beta, t):\n",
    "    beta = torch.cat([torch.zeros(1).cuda(), beta], dim=0)\n",
    "    a = (1 - beta).cumprod(dim=0).index_select(0, t + 1).view(-1, 1, 1)\n",
    "    return a\n",
    "\n",
    "def ddrm_inference(\n",
    "    checkpoint_path,\n",
    "    x,      # Input data point (1x31 vector)\n",
    "    seq,    # Sequence of timesteps for sampling\n",
    "    H_funcs,\n",
    "    sigma_0=0.1,  # Noise threshold\n",
    "    etaB=0.85,    # Noise handling for more noisy components\n",
    "    etaA=0.5,     # Noise handling for less noisy components\n",
    "    etaC=0.5      # Noise handling more missing/highly corrupted components\n",
    "):\n",
    "    checkpoint = torch.load(checkpoint_path)\n",
    "    model = UNET().cuda()\n",
    "    model.load_state_dict(checkpoint['weights'])\n",
    "    ema = ModelEmaV3(model, decay=0.9999)\n",
    "    ema.load_state_dict(checkpoint['ema'])\n",
    "\n",
    "    # Set the model to evaluation mode to disable dropout and batch normalization training behaviors\n",
    "    model.eval()\n",
    "\n",
    "    # Convert input to torch tensor and move to GPU\n",
    "    if isinstance(x, np.ndarray):\n",
    "        x = torch.from_numpy(x).float()\n",
    "    x = x.cuda()\n",
    "    #add noise\n",
    "    x = H_funcs.H(x)\n",
    "\n",
    "    # Create beta schedule matching your training scheduler\n",
    "    b = torch.linspace(1e-4, 0.02, 1000).to(x.device)\n",
    "\n",
    "    with torch.no_grad():\n",
    "        # Setup for DDRM sampling\n",
    "        # In this case, this is a tensor of ones since I'm not using SVD\n",
    "        singulars = H_funcs.singulars()\n",
    "\n",
    "        # Create a zero tensor to store singular values\n",
    "        # This is a placeholder that matches the dimension of your input\n",
    "        Sigma = torch.zeros(x.shape[2], device=x.device)\n",
    "        Sigma[:singulars.shape[0]] = singulars\n",
    "\n",
    "        # Store the original noisy input\n",
    "        y_0 = x.clone()\n",
    "\n",
    "        # Transform the input using the Ut (U transpose) operation\n",
    "        # This projects the input into a different space\n",
    "        U_t_y = H_funcs.Ut(y_0)\n",
    "\n",
    "        # Divide by singular values (which are 1s in your case)\n",
    "        Sig_inv_U_t_y = U_t_y / singulars[:U_t_y.shape[-1]]\n",
    "\n",
    "        # Compute the largest alphas for the final timestep\n",
    "        # This determines the noise level at the start of reverse diffusion\n",
    "        largest_alphas = compute_alpha(b, (torch.ones(x.size(0)) * seq[-1]).to(x.device).long())\n",
    "\n",
    "        # Calculate sigmas based on alphas\n",
    "        # This represents the noise standard deviation\n",
    "        largest_sigmas = (1 - largest_alphas).sqrt() / largest_alphas.sqrt()\n",
    "\n",
    "        # Identify significant singular values based on noise threshold\n",
    "        # In this case, this will mostly just select all indices\n",
    "        large_singulars_index = torch.where(singulars * largest_sigmas[0, 0, 0] > sigma_0)\n",
    "\n",
    "        # Create a tensor to store inverse of singular values\n",
    "        inv_singulars_and_zero = torch.zeros(x.shape[2]).to(singulars.device)\n",
    "        inv_singulars_and_zero[large_singulars_index] = sigma_0 / singulars[large_singulars_index]\n",
    "        inv_singulars_and_zero = inv_singulars_and_zero.view(1, -1)\n",
    "\n",
    "        # Initialize the first estimate of the reconstructed signal\n",
    "        init_y = torch.zeros(x.shape[0], x.shape[2]).to(x.device)\n",
    "\n",
    "        # Project the initial estimate using U transpose\n",
    "        init_y[:, large_singulars_index[0]] = U_t_y[:, :, large_singulars_index[0]] / singulars[large_singulars_index].view(1, -1)\n",
    "        init_y = init_y.view(*x.size())\n",
    "\n",
    "        # Compute remaining sigma (noise standard deviation)\n",
    "        remaining_s = largest_sigmas.view(-1, 1) ** 2 - inv_singulars_and_zero ** 2\n",
    "        remaining_s = remaining_s.view(x.shape[0], x.shape[2]).clamp_min(0.0).sqrt()\n",
    "\n",
    "        # Combine initial estimate with original input\n",
    "        init_y = init_y + remaining_s * x\n",
    "        init_y = init_y / largest_sigmas\n",
    "\n",
    "        # Transform the initial estimate using V operation\n",
    "        x = H_funcs.V(init_y.view(x.size(0), -1)).view(*x.size())\n",
    "\n",
    "        # Setup iteration variables\n",
    "        n = x.size(0)\n",
    "        # Create a sequence of previous timesteps\n",
    "        seq_next = [-1] + list(seq[:-1])\n",
    "        # List to store predictions of x0 at each step\n",
    "        x0_preds = []\n",
    "        # List to store noisy samples at each step\n",
    "        xs = [x]\n",
    "\n",
    "        # Iterate over timesteps in reverse order\n",
    "        for i, j in tqdm(zip(reversed(seq), reversed(seq_next))):\n",
    "            # Convert timesteps to tensors\n",
    "            t = (torch.ones(n) * i).to(x.device)\n",
    "            next_t = (torch.ones(n) * j).to(x.device)\n",
    "\n",
    "            # Compute alphas for current and next timesteps\n",
    "            at = compute_alpha(b, t.long())\n",
    "            at_next = compute_alpha(b, next_t.long())\n",
    "\n",
    "            # Get current noisy sample\n",
    "            xt = xs[-1].to('cuda')\n",
    "\n",
    "            # Predict noise using the model\n",
    "            et = model(xt, t)\n",
    "\n",
    "            # Predict x0 (clean signal) using the noise prediction\n",
    "            x0_t = (xt - et * (1 - at).sqrt()) / at.sqrt()\n",
    "\n",
    "            # Compute sigmas for current and next timesteps\n",
    "            sigma = (1 - at).sqrt()[0, 0, 0] / at.sqrt()[0, 0, 0]\n",
    "            sigma_next = (1 - at_next).sqrt()[0, 0, 0] / at_next.sqrt()[0, 0, 0]\n",
    "\n",
    "            # Normalize current sample\n",
    "            xt_mod = xt / at.sqrt()[0, 0, 0]\n",
    "\n",
    "            # Transform current and x0 samples\n",
    "            V_t_x = H_funcs.Vt(xt_mod)\n",
    "            SVt_x = (V_t_x * Sigma)[:, :U_t_y.shape[2]]\n",
    "\n",
    "            V_t_x0 = H_funcs.Vt(x0_t)\n",
    "            SVt_x0 = (V_t_x0 * Sigma)[:, :U_t_y.shape[2]]\n",
    "\n",
    "            # Prepare conditions for different noise scenarios\n",
    "            falses = torch.zeros(V_t_x0.shape[2] - singulars.shape[0], dtype=torch.bool, device=xt.device)\n",
    "            cond_before_lite = singulars * sigma_next > sigma_0\n",
    "            cond_after_lite = singulars * sigma_next < sigma_0\n",
    "            cond_before = torch.hstack((cond_before_lite, falses))\n",
    "            cond_after = torch.hstack((cond_after_lite, falses))\n",
    "\n",
    "            # Compute noise parameters for different scenarios\n",
    "            std_nextC = sigma_next * etaC\n",
    "            sigma_tilde_nextC = torch.sqrt(sigma_next ** 2 - std_nextC ** 2)\n",
    "\n",
    "            std_nextA = sigma_next * etaA\n",
    "            sigma_tilde_nextA = torch.sqrt(sigma_next**2 - std_nextA**2)\n",
    "\n",
    "            diff_sigma_t_nextB = torch.sqrt(sigma_next ** 2 - sigma_0 ** 2 / singulars[cond_before_lite] ** 2 * (etaB ** 2))\n",
    "\n",
    "            # Initial modification of next prediction\n",
    "            Vt_xt_mod_next = V_t_x0 + sigma_tilde_nextC * H_funcs.Vt(et) + std_nextC * torch.randn_like(V_t_x0)\n",
    "\n",
    "            # Modify prediction for less noisy components\n",
    "            Vt_xt_mod_next[:, :, cond_after] = \\\n",
    "                V_t_x0[:, :, cond_after] + sigma_tilde_nextA * ((U_t_y - SVt_x0) / sigma_0)[:, :, cond_after_lite] + std_nextA * torch.randn_like(V_t_x0[:, :, cond_after])\n",
    "\n",
    "            # Modify prediction for more noisy components\n",
    "            Vt_xt_mod_next[:, :, cond_before] = \\\n",
    "                (Sig_inv_U_t_y[:, :, cond_before_lite] * etaB + (1 - etaB) * V_t_x0[:, :, cond_before] + diff_sigma_t_nextB * torch.randn_like(U_t_y)[:, :, cond_before_lite])\n",
    "\n",
    "            # Transform back to original space\n",
    "            xt_mod_next = H_funcs.V(Vt_xt_mod_next)\n",
    "            xt_next = (at_next.sqrt()[0, 0, 0] * xt_mod_next).view(*x.shape)\n",
    "\n",
    "            # Store predictions\n",
    "            x0_preds.append(x0_t.to('cpu'))\n",
    "            xs.append(xt_next.to('cpu'))\n",
    "\n",
    "    return xs, x0_preds"
   ]
  },
  {
   "cell_type": "code",
   "execution_count": 15,
   "metadata": {
    "colab": {
     "base_uri": "https://localhost:8080/"
    },
    "id": "2izigVwhnBpA",
    "outputId": "0529c202-5380-42bd-d750-d6955b7381ae"
   },
   "outputs": [
    {
     "name": "stderr",
     "output_type": "stream",
     "text": [
      "/tmp/ipykernel_2688866/3397917944.py:16: FutureWarning: You are using `torch.load` with `weights_only=False` (the current default value), which uses the default pickle module implicitly. It is possible to construct malicious pickle data which will execute arbitrary code during unpickling (See https://github.com/pytorch/pytorch/blob/main/SECURITY.md#untrusted-models for more details). In a future release, the default value for `weights_only` will be flipped to `True`. This limits the functions that could be executed during unpickling. Arbitrary objects will no longer be allowed to be loaded via this mode unless they are explicitly allowlisted by the user via `torch.serialization.add_safe_globals`. We recommend you start setting `weights_only=True` for any use case where you don't have full control of the loaded file. Please open an issue on GitHub for any issues related to this experimental feature.\n",
      "  checkpoint = torch.load(checkpoint_path)\n",
      "20it [00:00, 93.73it/s]\n",
      "20it [00:00, 171.59it/s]\n",
      "20it [00:00, 308.45it/s]\n"
     ]
    }
   ],
   "source": [
    "#ddrm_inference('/home/nnara/checkpoints/ddpm_checkpoint.pth')\n",
    "seq = list(range(0, 1000, 50))\n",
    "indices_to_noise = [2, 5, 10, 15, 30]\n",
    "H_funcs = Denoising(indices_to_noise=indices_to_noise)\n",
    "true_waves = []\n",
    "preds = []\n",
    "\n",
    "for i in range(3):\n",
    "  rand = random.randint(0,999990)\n",
    "  x = data[rand].reshape(1, -1, 31)\n",
    "  predictions = ddrm_inference('/home/nnara/notebooks/ddpm_checkpoint.pth', x, seq, H_funcs, 0.1, 0.85, 0.5, 0.5)\n",
    "  true_waves.append(x)\n",
    "  preds.append(predictions[0])"
   ]
  },
  {
   "cell_type": "code",
   "execution_count": 18,
   "metadata": {
    "colab": {
     "base_uri": "https://localhost:8080/",
     "height": 545
    },
    "id": "obcRALRVVpu1",
    "outputId": "74fac3fd-3ec6-4624-a608-fae8cd55f711"
   },
   "outputs": [
    {
     "data": {
      "image/png": "[encoded data removed]",
      "text/plain": [
       "<Figure size 1000x600 with 1 Axes>"
      ]
     },
     "metadata": {},
     "output_type": "display_data"
    }
   ],
   "source": [
    "plt.figure(figsize=(10, 6))\n",
    "colors = ['blue', 'orange', 'green']\n",
    "\n",
    "for x in true_waves:\n",
    "  for i, wave in enumerate(true_waves):\n",
    "      wave = wave.squeeze()\n",
    "      plt.plot(range(420,721, 10), wave, color=colors[i % len(colors)])\n",
    "\n",
    "plt.ylim(0,1)\n",
    "plt.title(\"Original Waves\")\n",
    "plt.xlabel(\"Wavelength (nm)\");"
   ]
  },
  {
   "cell_type": "code",
   "execution_count": 19,
   "metadata": {
    "colab": {
     "base_uri": "https://localhost:8080/",
     "height": 545
    },
    "id": "ZBf5WFBtXrfM",
    "outputId": "603e1c33-79af-4950-8acb-a01fee608e9a"
   },
   "outputs": [
    {
     "data": {
      "image/png": "[encoded data removed]",
      "text/plain": [
       "<Figure size 1000x600 with 1 Axes>"
      ]
     },
     "metadata": {},
     "output_type": "display_data"
    }
   ],
   "source": [
    "plt.figure(figsize=(10, 6))\n",
    "\n",
    "for pred in preds:\n",
    "  for i, p in enumerate(pred[0]):\n",
    "      p = p.squeeze()\n",
    "      plt.plot(range(420,721, 10), p.cpu())\n",
    "\n",
    "plt.ylim(0,1)\n",
    "plt.title(\"Noised Waves\")\n",
    "plt.xlabel(\"Wavelength (nm)\");"
   ]
  },
  {
   "cell_type": "code",
   "execution_count": 20,
   "metadata": {
    "colab": {
     "base_uri": "https://localhost:8080/",
     "height": 545
    },
    "id": "BMe--Y-PPM3m",
    "outputId": "47e4d7cd-d5b2-4175-c514-fe4af7332140"
   },
   "outputs": [
    {
     "data": {
      "image/png": "[encoded data removed]",
      "text/plain": [
       "<Figure size 1000x600 with 1 Axes>"
      ]
     },
     "metadata": {},
     "output_type": "display_data"
    }
   ],
   "source": [
    "plt.figure(figsize=(10, 6))\n",
    "\n",
    "for pred in preds:\n",
    "  for i, p in enumerate(pred[-1]):\n",
    "      p = p.squeeze()\n",
    "      plt.plot(range(420,721, 10), p.cpu())\n",
    "\n",
    "plt.ylim(0,1)\n",
    "plt.title(\"Reconstructed Waves\")\n",
    "plt.xlabel(\"Wavelength (nm)\");"
   ]
  },
  {
   "cell_type": "code",
   "execution_count": null,
   "metadata": {},
   "outputs": [],
   "source": []
  }
 ],
 "metadata": {
  "accelerator": "GPU",
  "colab": {
   "gpuType": "T4",
   "provenance": []
  },
  "kernelspec": {
   "display_name": "Python 3 (ipykernel)",
   "language": "python",
   "name": "python3"
  },
  "language_info": {
   "codemirror_mode": {
    "name": "ipython",
    "version": 3
   },
   "file_extension": ".py",
   "mimetype": "text/x-python",
   "name": "python",
   "nbconvert_exporter": "python",
   "pygments_lexer": "ipython3",
   "version": "3.11.3"
  }
 },
 "nbformat": 4,
 "nbformat_minor": 1
}
